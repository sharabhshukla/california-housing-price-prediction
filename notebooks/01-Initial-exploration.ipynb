{
 "cells": [
  {
   "cell_type": "code",
   "execution_count": null,
   "metadata": {
    "id": "IedAb7WCUKnu"
   },
   "outputs": [],
   "source": [
    "import numpy as np\n",
    "import pandas as pd"
   ]
  },
  {
   "cell_type": "code",
   "execution_count": null,
   "metadata": {
    "id": "jkjXpWTKUV6T"
   },
   "outputs": [],
   "source": [
    "data = pd.read_csv('../data/external/california_housing_train.csv')"
   ]
  },
  {
   "cell_type": "code",
   "execution_count": null,
   "metadata": {
    "colab": {
     "base_uri": "https://localhost:8080/",
     "height": 439
    },
    "id": "PXzCbzFTuZTS",
    "outputId": "13f77149-c98b-448e-a3d4-d168e98f674f"
   },
   "outputs": [],
   "source": []
  },
  {
   "cell_type": "code",
   "execution_count": null,
   "metadata": {
    "id": "CJ_J5DZhUcEh"
   },
   "outputs": [],
   "source": [
    "data.head()\n",
    "X = data.drop(columns=['median_house_value'], axis=1)\n",
    "Y = data['median_house_value']\n",
    "\n",
    "numeric_features = [col for col in X.columns if X[col].dtype == np.float]"
   ]
  },
  {
   "cell_type": "code",
   "execution_count": null,
   "metadata": {
    "id": "z4eK4B37Udaq"
   },
   "outputs": [],
   "source": [
    "from sklearn.model_selection import train_test_split\n",
    "X_train, X_test, y_train, y_test = train_test_split(X,Y, test_size=0.2, shuffle=True)"
   ]
  },
  {
   "cell_type": "code",
   "execution_count": null,
   "metadata": {
    "id": "SHqIwwdomNDO"
   },
   "outputs": [],
   "source": [
    "from sklearn.pipeline import Pipeline, FeatureUnion\n",
    "from sklearn.compose import TransformedTargetRegressor, ColumnTransformer\n",
    "from sklearn.preprocessing import RobustScaler, StandardScaler\n",
    "from sklearn.impute import SimpleImputer\n",
    "from gplearn.genetic import SymbolicTransformer"
   ]
  },
  {
   "cell_type": "code",
   "execution_count": null,
   "metadata": {
    "id": "xe8l7kyGwpS9"
   },
   "outputs": [],
   "source": [
    "from sklearn.base import TransformerMixin, BaseEstimator\n",
    "\n",
    "function_set = ['add', 'sub', 'mul', 'div',\n",
    "                'sqrt', 'log', 'abs', 'neg', 'inv',\n",
    "                'max', 'min']\n",
    "gp = SymbolicTransformer(generations=20, population_size=2000,\n",
    "                         hall_of_fame=100, n_components=5,\n",
    "                         function_set=function_set,\n",
    "                         parsimony_coefficient=1E-7,\n",
    "                         max_samples=0.9, verbose=1,\n",
    "                         random_state=0, n_jobs=3)"
   ]
  },
  {
   "cell_type": "code",
   "execution_count": null,
   "metadata": {
    "id": "abqd0o-hmcYy"
   },
   "outputs": [],
   "source": [
    "col_passthrough = ColumnTransformer([\n",
    "                                     ('Imputer', SimpleImputer(), numeric_features)], remainder='passthrough')\n",
    "gp_feat = FeatureUnion([('col_pass', col_passthrough),\n",
    "                        ('gp_featurizer', gp)])\n",
    "preprocessor = Pipeline([\n",
    "                     ('FeatureUnion', gp_feat), \n",
    "                     ('StandrdScaler', StandardScaler())\n",
    "])"
   ]
  },
  {
   "cell_type": "code",
   "execution_count": null,
   "metadata": {
    "colab": {
     "base_uri": "https://localhost:8080/"
    },
    "id": "-Eeh5q0ULEe8",
    "outputId": "924c154a-9a9a-4a9b-e525-331ad99e85d8"
   },
   "outputs": [],
   "source": [
    "preprocessor.named_steps"
   ]
  },
  {
   "cell_type": "code",
   "execution_count": null,
   "metadata": {
    "colab": {
     "base_uri": "https://localhost:8080/"
    },
    "id": "khc08-g6nQfz",
    "outputId": "ab8c80d6-5460-4383-898b-25b8b1c031ab"
   },
   "outputs": [],
   "source": [
    "preprocessor.fit(X_train, y_train)"
   ]
  },
  {
   "cell_type": "code",
   "execution_count": null,
   "metadata": {
    "id": "WHFjhlUHnV-0"
   },
   "outputs": [],
   "source": [
    "from catboost import CatBoostRegressor, Pool\n",
    "\n",
    "catboost_regressor = CatBoostRegressor(iterations=8000, early_stopping_rounds=50)\n",
    "eval_set = Pool(preprocessor.transform(X_test), np.log1p(y_test))\n",
    "catboost_regressor.fit(preprocessor.transform(X_train), np.log1p(y_train), eval_set=eval_set, plot=True)"
   ]
  },
  {
   "cell_type": "code",
   "execution_count": null,
   "metadata": {
    "id": "1fBy8YHPqDKg"
   },
   "outputs": [],
   "source": [
    "from sklearn.metrics import r2_score\n",
    "score = r2_score(y_test, np.expm1(catboost_regressor.predict(preprocessor.transform(X_test))))"
   ]
  },
  {
   "cell_type": "code",
   "execution_count": null,
   "metadata": {
    "colab": {
     "base_uri": "https://localhost:8080/"
    },
    "id": "QQB9dhWXFsFF",
    "outputId": "2620f099-c7f8-486c-c986-dbff0565ed05"
   },
   "outputs": [],
   "source": [
    "score"
   ]
  },
  {
   "cell_type": "code",
   "execution_count": null,
   "metadata": {
    "colab": {
     "base_uri": "https://localhost:8080/"
    },
    "id": "yYvTsrNiqNov",
    "outputId": "c8d3c516-bbce-4758-c2e0-f7d800a6db1e"
   },
   "outputs": [],
   "source": [
    "import joblib\n",
    "\n",
    "joblib.dump(preprocessor, '../models/preprocessor')"
   ]
  },
  {
   "cell_type": "code",
   "execution_count": null,
   "metadata": {
    "id": "NzE-KTOcrY6o"
   },
   "outputs": [],
   "source": [
    "catboost_regressor.save_model('../models/catboost_regressor')"
   ]
  },
  {
   "cell_type": "code",
   "execution_count": null,
   "metadata": {
    "colab": {
     "base_uri": "https://localhost:8080/"
    },
    "id": "_wqi1ur62Rw1",
    "outputId": "2db47239-c7d2-4293-d236-4ca6a4e15f1b"
   },
   "outputs": [],
   "source": []
  },
  {
   "cell_type": "code",
   "execution_count": null,
   "metadata": {
    "id": "c6yTP7-h2UhP"
   },
   "outputs": [],
   "source": []
  },
  {
   "cell_type": "code",
   "execution_count": null,
   "metadata": {
    "colab": {
     "base_uri": "https://localhost:8080/",
     "height": 130
    },
    "id": "JWm1QrwrUqdq",
    "outputId": "7443b697-8dfd-4f3c-e185-8421dc08d12c"
   },
   "outputs": [],
   "source": [
    "with simple catboost r2 score is 0.8350022987968354 (no Preprocessor)"
   ]
  },
  {
   "cell_type": "code",
   "execution_count": null,
   "metadata": {
    "id": "79rIvZ7mUvKn"
   },
   "outputs": [],
   "source": []
  }
 ],
 "metadata": {
  "colab": {
   "name": "lale-tutorial-001.ipynb",
   "provenance": []
  },
  "kernelspec": {
   "display_name": "Python 3.8.3 64-bit ('py_devops': conda)",
   "language": "python",
   "name": "python38364bitpydevopscondaeacfb85b91ce460aa717262a3960c6cc"
  },
  "language_info": {
   "codemirror_mode": {
    "name": "ipython",
    "version": 3
   },
   "file_extension": ".py",
   "mimetype": "text/x-python",
   "name": "python",
   "nbconvert_exporter": "python",
   "pygments_lexer": "ipython3",
   "version": "3.8.5"
  }
 },
 "nbformat": 4,
 "nbformat_minor": 1
}
